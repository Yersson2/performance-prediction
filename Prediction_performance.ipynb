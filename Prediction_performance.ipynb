{
  "nbformat": 4,
  "nbformat_minor": 0,
  "metadata": {
    "colab": {
      "name": "Prediction_performance.ipynb",
      "provenance": [],
      "collapsed_sections": []
    },
    "kernelspec": {
      "name": "python3",
      "display_name": "Python 3"
    },
    "language_info": {
      "name": "python"
    }
  },
  "cells": [
    {
      "cell_type": "code",
      "execution_count": 89,
      "metadata": {
        "id": "RCz0Dio_Y_g9"
      },
      "outputs": [],
      "source": [
        "import pandas as pd\n",
        "import numpy as np\n",
        "from sklearn.tree import DecisionTreeClassifier\n",
        "from sklearn.model_selection import train_test_split\n",
        "from sklearn.tree import plot_tree\n",
        "from matplotlib import pyplot as plt\n",
        "from sklearn import tree\n",
        "from sklearn.tree import export_text\n",
        "from sklearn.metrics import confusion_matrix\n",
        "from imblearn.under_sampling import RandomUnderSampler\n",
        "from imblearn.over_sampling import RandomOverSampler"
      ]
    },
    {
      "cell_type": "code",
      "source": [
        "ls"
      ],
      "metadata": {
        "colab": {
          "base_uri": "https://localhost:8080/"
        },
        "id": "wgDmHtJzOqds",
        "outputId": "9574a2de-93c6-4b54-df08-9514c0dd9fd1"
      },
      "execution_count": 2,
      "outputs": [
        {
          "output_type": "stream",
          "name": "stdout",
          "text": [
            "\u001b[0m\u001b[01;34msample_data\u001b[0m/\n"
          ]
        }
      ]
    },
    {
      "cell_type": "code",
      "source": [
        "# Importación de dataframe\n",
        "\n",
        "df = pd.read_csv('/content/sample_data/premierleague.csv')\n",
        "print(len(df))\n",
        "df.head()"
      ],
      "metadata": {
        "id": "-Ep4KhJGZOs8",
        "colab": {
          "base_uri": "https://localhost:8080/",
          "height": 287
        },
        "outputId": "e60b4dc4-3c5c-407a-e197-324fbfc60f2b"
      },
      "execution_count": 158,
      "outputs": [
        {
          "output_type": "stream",
          "name": "stdout",
          "text": [
            "4070\n"
          ]
        },
        {
          "output_type": "execute_result",
          "data": {
            "text/plain": [
              "   clearances_avg_home  corners_avg_home  passes_avg_home  \\\n",
              "0                 38.4               4.6            407.9   \n",
              "1                 29.8               5.6            440.1   \n",
              "2                 29.1               6.1            517.3   \n",
              "3                 32.3               4.0            256.0   \n",
              "4                 38.7               5.0            446.8   \n",
              "\n",
              "   possession_avg_home  shots_avg_home  shots_on_target_avg_home  \\\n",
              "0                 48.3            12.9                       4.4   \n",
              "1                 52.7            15.3                       5.3   \n",
              "2                 57.6            16.5                       5.6   \n",
              "3                 35.7            13.0                       4.0   \n",
              "4                 51.6            14.2                       4.5   \n",
              "\n",
              "   touches_avg_home  goals_scored_ft_avg_home  goals_conced_ft_avg_home  \\\n",
              "0             619.1                      1.44                      2.22   \n",
              "1             659.5                      1.35                      1.23   \n",
              "2             726.1                      2.33                      1.07   \n",
              "3             442.0                      0.67                      2.00   \n",
              "4             669.1                      1.08                      1.08   \n",
              "\n",
              "   performance_acum_home  \n",
              "0                   37.0  \n",
              "1                   48.4  \n",
              "2                   68.9  \n",
              "3                    0.0  \n",
              "4                   38.5  "
            ],
            "text/html": [
              "\n",
              "  <div id=\"df-c6c6f2e6-2336-4000-85b8-c7549c3b6c1e\">\n",
              "    <div class=\"colab-df-container\">\n",
              "      <div>\n",
              "<style scoped>\n",
              "    .dataframe tbody tr th:only-of-type {\n",
              "        vertical-align: middle;\n",
              "    }\n",
              "\n",
              "    .dataframe tbody tr th {\n",
              "        vertical-align: top;\n",
              "    }\n",
              "\n",
              "    .dataframe thead th {\n",
              "        text-align: right;\n",
              "    }\n",
              "</style>\n",
              "<table border=\"1\" class=\"dataframe\">\n",
              "  <thead>\n",
              "    <tr style=\"text-align: right;\">\n",
              "      <th></th>\n",
              "      <th>clearances_avg_home</th>\n",
              "      <th>corners_avg_home</th>\n",
              "      <th>passes_avg_home</th>\n",
              "      <th>possession_avg_home</th>\n",
              "      <th>shots_avg_home</th>\n",
              "      <th>shots_on_target_avg_home</th>\n",
              "      <th>touches_avg_home</th>\n",
              "      <th>goals_scored_ft_avg_home</th>\n",
              "      <th>goals_conced_ft_avg_home</th>\n",
              "      <th>performance_acum_home</th>\n",
              "    </tr>\n",
              "  </thead>\n",
              "  <tbody>\n",
              "    <tr>\n",
              "      <th>0</th>\n",
              "      <td>38.4</td>\n",
              "      <td>4.6</td>\n",
              "      <td>407.9</td>\n",
              "      <td>48.3</td>\n",
              "      <td>12.9</td>\n",
              "      <td>4.4</td>\n",
              "      <td>619.1</td>\n",
              "      <td>1.44</td>\n",
              "      <td>2.22</td>\n",
              "      <td>37.0</td>\n",
              "    </tr>\n",
              "    <tr>\n",
              "      <th>1</th>\n",
              "      <td>29.8</td>\n",
              "      <td>5.6</td>\n",
              "      <td>440.1</td>\n",
              "      <td>52.7</td>\n",
              "      <td>15.3</td>\n",
              "      <td>5.3</td>\n",
              "      <td>659.5</td>\n",
              "      <td>1.35</td>\n",
              "      <td>1.23</td>\n",
              "      <td>48.4</td>\n",
              "    </tr>\n",
              "    <tr>\n",
              "      <th>2</th>\n",
              "      <td>29.1</td>\n",
              "      <td>6.1</td>\n",
              "      <td>517.3</td>\n",
              "      <td>57.6</td>\n",
              "      <td>16.5</td>\n",
              "      <td>5.6</td>\n",
              "      <td>726.1</td>\n",
              "      <td>2.33</td>\n",
              "      <td>1.07</td>\n",
              "      <td>68.9</td>\n",
              "    </tr>\n",
              "    <tr>\n",
              "      <th>3</th>\n",
              "      <td>32.3</td>\n",
              "      <td>4.0</td>\n",
              "      <td>256.0</td>\n",
              "      <td>35.7</td>\n",
              "      <td>13.0</td>\n",
              "      <td>4.0</td>\n",
              "      <td>442.0</td>\n",
              "      <td>0.67</td>\n",
              "      <td>2.00</td>\n",
              "      <td>0.0</td>\n",
              "    </tr>\n",
              "    <tr>\n",
              "      <th>4</th>\n",
              "      <td>38.7</td>\n",
              "      <td>5.0</td>\n",
              "      <td>446.8</td>\n",
              "      <td>51.6</td>\n",
              "      <td>14.2</td>\n",
              "      <td>4.5</td>\n",
              "      <td>669.1</td>\n",
              "      <td>1.08</td>\n",
              "      <td>1.08</td>\n",
              "      <td>38.5</td>\n",
              "    </tr>\n",
              "  </tbody>\n",
              "</table>\n",
              "</div>\n",
              "      <button class=\"colab-df-convert\" onclick=\"convertToInteractive('df-c6c6f2e6-2336-4000-85b8-c7549c3b6c1e')\"\n",
              "              title=\"Convert this dataframe to an interactive table.\"\n",
              "              style=\"display:none;\">\n",
              "        \n",
              "  <svg xmlns=\"http://www.w3.org/2000/svg\" height=\"24px\"viewBox=\"0 0 24 24\"\n",
              "       width=\"24px\">\n",
              "    <path d=\"M0 0h24v24H0V0z\" fill=\"none\"/>\n",
              "    <path d=\"M18.56 5.44l.94 2.06.94-2.06 2.06-.94-2.06-.94-.94-2.06-.94 2.06-2.06.94zm-11 1L8.5 8.5l.94-2.06 2.06-.94-2.06-.94L8.5 2.5l-.94 2.06-2.06.94zm10 10l.94 2.06.94-2.06 2.06-.94-2.06-.94-.94-2.06-.94 2.06-2.06.94z\"/><path d=\"M17.41 7.96l-1.37-1.37c-.4-.4-.92-.59-1.43-.59-.52 0-1.04.2-1.43.59L10.3 9.45l-7.72 7.72c-.78.78-.78 2.05 0 2.83L4 21.41c.39.39.9.59 1.41.59.51 0 1.02-.2 1.41-.59l7.78-7.78 2.81-2.81c.8-.78.8-2.07 0-2.86zM5.41 20L4 18.59l7.72-7.72 1.47 1.35L5.41 20z\"/>\n",
              "  </svg>\n",
              "      </button>\n",
              "      \n",
              "  <style>\n",
              "    .colab-df-container {\n",
              "      display:flex;\n",
              "      flex-wrap:wrap;\n",
              "      gap: 12px;\n",
              "    }\n",
              "\n",
              "    .colab-df-convert {\n",
              "      background-color: #E8F0FE;\n",
              "      border: none;\n",
              "      border-radius: 50%;\n",
              "      cursor: pointer;\n",
              "      display: none;\n",
              "      fill: #1967D2;\n",
              "      height: 32px;\n",
              "      padding: 0 0 0 0;\n",
              "      width: 32px;\n",
              "    }\n",
              "\n",
              "    .colab-df-convert:hover {\n",
              "      background-color: #E2EBFA;\n",
              "      box-shadow: 0px 1px 2px rgba(60, 64, 67, 0.3), 0px 1px 3px 1px rgba(60, 64, 67, 0.15);\n",
              "      fill: #174EA6;\n",
              "    }\n",
              "\n",
              "    [theme=dark] .colab-df-convert {\n",
              "      background-color: #3B4455;\n",
              "      fill: #D2E3FC;\n",
              "    }\n",
              "\n",
              "    [theme=dark] .colab-df-convert:hover {\n",
              "      background-color: #434B5C;\n",
              "      box-shadow: 0px 1px 3px 1px rgba(0, 0, 0, 0.15);\n",
              "      filter: drop-shadow(0px 1px 2px rgba(0, 0, 0, 0.3));\n",
              "      fill: #FFFFFF;\n",
              "    }\n",
              "  </style>\n",
              "\n",
              "      <script>\n",
              "        const buttonEl =\n",
              "          document.querySelector('#df-c6c6f2e6-2336-4000-85b8-c7549c3b6c1e button.colab-df-convert');\n",
              "        buttonEl.style.display =\n",
              "          google.colab.kernel.accessAllowed ? 'block' : 'none';\n",
              "\n",
              "        async function convertToInteractive(key) {\n",
              "          const element = document.querySelector('#df-c6c6f2e6-2336-4000-85b8-c7549c3b6c1e');\n",
              "          const dataTable =\n",
              "            await google.colab.kernel.invokeFunction('convertToInteractive',\n",
              "                                                     [key], {});\n",
              "          if (!dataTable) return;\n",
              "\n",
              "          const docLinkHtml = 'Like what you see? Visit the ' +\n",
              "            '<a target=\"_blank\" href=https://colab.research.google.com/notebooks/data_table.ipynb>data table notebook</a>'\n",
              "            + ' to learn more about interactive tables.';\n",
              "          element.innerHTML = '';\n",
              "          dataTable['output_type'] = 'display_data';\n",
              "          await google.colab.output.renderOutput(dataTable, element);\n",
              "          const docLink = document.createElement('div');\n",
              "          docLink.innerHTML = docLinkHtml;\n",
              "          element.appendChild(docLink);\n",
              "        }\n",
              "      </script>\n",
              "    </div>\n",
              "  </div>\n",
              "  "
            ]
          },
          "metadata": {},
          "execution_count": 158
        }
      ]
    },
    {
      "cell_type": "code",
      "source": [
        "df = df.dropna(how='all')\n",
        "len(df)"
      ],
      "metadata": {
        "colab": {
          "base_uri": "https://localhost:8080/"
        },
        "id": "Zqjb-XDCP8Zh",
        "outputId": "112a2247-8ce6-4cb0-83e5-dff9859629ae"
      },
      "execution_count": 159,
      "outputs": [
        {
          "output_type": "execute_result",
          "data": {
            "text/plain": [
              "3960"
            ]
          },
          "metadata": {},
          "execution_count": 159
        }
      ]
    },
    {
      "cell_type": "code",
      "source": [
        "# Función que evalue si hay datos nulos en el dataframe y si los hay los reemplaza por ceros\n",
        "\n",
        "def check_for_nan(df):\n",
        "  if df.isnull().values.any():\n",
        "    return df.fillna(0)\n",
        "\n",
        "df = check_for_nan(df)"
      ],
      "metadata": {
        "id": "BCEktLbzOsNB"
      },
      "execution_count": 133,
      "outputs": []
    },
    {
      "cell_type": "code",
      "source": [
        "# Normalizar el dataframe\n",
        "\n",
        "def minmax_norm(df_input):\n",
        "    return (df - df.min()) / ( df.max() - df.min())\n",
        "\n",
        "df = minmax_norm(df)\n",
        "df.head()"
      ],
      "metadata": {
        "id": "tfm9YDTDWqs6",
        "colab": {
          "base_uri": "https://localhost:8080/",
          "height": 270
        },
        "outputId": "04dc3c8f-1733-497a-c08a-a64b60e949f6"
      },
      "execution_count": 160,
      "outputs": [
        {
          "output_type": "execute_result",
          "data": {
            "text/plain": [
              "   clearances_avg_home  corners_avg_home  passes_avg_home  \\\n",
              "0             0.640816          0.353846         0.378066   \n",
              "1             0.465306          0.430769         0.433679   \n",
              "2             0.451020          0.469231         0.567012   \n",
              "3             0.516327          0.307692         0.115717   \n",
              "4             0.646939          0.384615         0.445250   \n",
              "\n",
              "   possession_avg_home  shots_avg_home  shots_on_target_avg_home  \\\n",
              "0             0.457350           0.356                  0.427184   \n",
              "1             0.537205           0.452                  0.514563   \n",
              "2             0.626134           0.500                  0.543689   \n",
              "3             0.228675           0.360                  0.388350   \n",
              "4             0.517241           0.408                  0.436893   \n",
              "\n",
              "   touches_avg_home  goals_scored_ft_avg_home  goals_conced_ft_avg_home  \\\n",
              "0          0.405244                  0.240000                  0.370000   \n",
              "1          0.478300                  0.225000                  0.205000   \n",
              "2          0.598734                  0.388333                  0.178333   \n",
              "3          0.084991                  0.111667                  0.333333   \n",
              "4          0.495660                  0.180000                  0.180000   \n",
              "\n",
              "   performance_acum_home  \n",
              "0                  0.370  \n",
              "1                  0.484  \n",
              "2                  0.689  \n",
              "3                  0.000  \n",
              "4                  0.385  "
            ],
            "text/html": [
              "\n",
              "  <div id=\"df-ad4a9b20-7c10-4f3e-a1d6-d5eb248cb6c0\">\n",
              "    <div class=\"colab-df-container\">\n",
              "      <div>\n",
              "<style scoped>\n",
              "    .dataframe tbody tr th:only-of-type {\n",
              "        vertical-align: middle;\n",
              "    }\n",
              "\n",
              "    .dataframe tbody tr th {\n",
              "        vertical-align: top;\n",
              "    }\n",
              "\n",
              "    .dataframe thead th {\n",
              "        text-align: right;\n",
              "    }\n",
              "</style>\n",
              "<table border=\"1\" class=\"dataframe\">\n",
              "  <thead>\n",
              "    <tr style=\"text-align: right;\">\n",
              "      <th></th>\n",
              "      <th>clearances_avg_home</th>\n",
              "      <th>corners_avg_home</th>\n",
              "      <th>passes_avg_home</th>\n",
              "      <th>possession_avg_home</th>\n",
              "      <th>shots_avg_home</th>\n",
              "      <th>shots_on_target_avg_home</th>\n",
              "      <th>touches_avg_home</th>\n",
              "      <th>goals_scored_ft_avg_home</th>\n",
              "      <th>goals_conced_ft_avg_home</th>\n",
              "      <th>performance_acum_home</th>\n",
              "    </tr>\n",
              "  </thead>\n",
              "  <tbody>\n",
              "    <tr>\n",
              "      <th>0</th>\n",
              "      <td>0.640816</td>\n",
              "      <td>0.353846</td>\n",
              "      <td>0.378066</td>\n",
              "      <td>0.457350</td>\n",
              "      <td>0.356</td>\n",
              "      <td>0.427184</td>\n",
              "      <td>0.405244</td>\n",
              "      <td>0.240000</td>\n",
              "      <td>0.370000</td>\n",
              "      <td>0.370</td>\n",
              "    </tr>\n",
              "    <tr>\n",
              "      <th>1</th>\n",
              "      <td>0.465306</td>\n",
              "      <td>0.430769</td>\n",
              "      <td>0.433679</td>\n",
              "      <td>0.537205</td>\n",
              "      <td>0.452</td>\n",
              "      <td>0.514563</td>\n",
              "      <td>0.478300</td>\n",
              "      <td>0.225000</td>\n",
              "      <td>0.205000</td>\n",
              "      <td>0.484</td>\n",
              "    </tr>\n",
              "    <tr>\n",
              "      <th>2</th>\n",
              "      <td>0.451020</td>\n",
              "      <td>0.469231</td>\n",
              "      <td>0.567012</td>\n",
              "      <td>0.626134</td>\n",
              "      <td>0.500</td>\n",
              "      <td>0.543689</td>\n",
              "      <td>0.598734</td>\n",
              "      <td>0.388333</td>\n",
              "      <td>0.178333</td>\n",
              "      <td>0.689</td>\n",
              "    </tr>\n",
              "    <tr>\n",
              "      <th>3</th>\n",
              "      <td>0.516327</td>\n",
              "      <td>0.307692</td>\n",
              "      <td>0.115717</td>\n",
              "      <td>0.228675</td>\n",
              "      <td>0.360</td>\n",
              "      <td>0.388350</td>\n",
              "      <td>0.084991</td>\n",
              "      <td>0.111667</td>\n",
              "      <td>0.333333</td>\n",
              "      <td>0.000</td>\n",
              "    </tr>\n",
              "    <tr>\n",
              "      <th>4</th>\n",
              "      <td>0.646939</td>\n",
              "      <td>0.384615</td>\n",
              "      <td>0.445250</td>\n",
              "      <td>0.517241</td>\n",
              "      <td>0.408</td>\n",
              "      <td>0.436893</td>\n",
              "      <td>0.495660</td>\n",
              "      <td>0.180000</td>\n",
              "      <td>0.180000</td>\n",
              "      <td>0.385</td>\n",
              "    </tr>\n",
              "  </tbody>\n",
              "</table>\n",
              "</div>\n",
              "      <button class=\"colab-df-convert\" onclick=\"convertToInteractive('df-ad4a9b20-7c10-4f3e-a1d6-d5eb248cb6c0')\"\n",
              "              title=\"Convert this dataframe to an interactive table.\"\n",
              "              style=\"display:none;\">\n",
              "        \n",
              "  <svg xmlns=\"http://www.w3.org/2000/svg\" height=\"24px\"viewBox=\"0 0 24 24\"\n",
              "       width=\"24px\">\n",
              "    <path d=\"M0 0h24v24H0V0z\" fill=\"none\"/>\n",
              "    <path d=\"M18.56 5.44l.94 2.06.94-2.06 2.06-.94-2.06-.94-.94-2.06-.94 2.06-2.06.94zm-11 1L8.5 8.5l.94-2.06 2.06-.94-2.06-.94L8.5 2.5l-.94 2.06-2.06.94zm10 10l.94 2.06.94-2.06 2.06-.94-2.06-.94-.94-2.06-.94 2.06-2.06.94z\"/><path d=\"M17.41 7.96l-1.37-1.37c-.4-.4-.92-.59-1.43-.59-.52 0-1.04.2-1.43.59L10.3 9.45l-7.72 7.72c-.78.78-.78 2.05 0 2.83L4 21.41c.39.39.9.59 1.41.59.51 0 1.02-.2 1.41-.59l7.78-7.78 2.81-2.81c.8-.78.8-2.07 0-2.86zM5.41 20L4 18.59l7.72-7.72 1.47 1.35L5.41 20z\"/>\n",
              "  </svg>\n",
              "      </button>\n",
              "      \n",
              "  <style>\n",
              "    .colab-df-container {\n",
              "      display:flex;\n",
              "      flex-wrap:wrap;\n",
              "      gap: 12px;\n",
              "    }\n",
              "\n",
              "    .colab-df-convert {\n",
              "      background-color: #E8F0FE;\n",
              "      border: none;\n",
              "      border-radius: 50%;\n",
              "      cursor: pointer;\n",
              "      display: none;\n",
              "      fill: #1967D2;\n",
              "      height: 32px;\n",
              "      padding: 0 0 0 0;\n",
              "      width: 32px;\n",
              "    }\n",
              "\n",
              "    .colab-df-convert:hover {\n",
              "      background-color: #E2EBFA;\n",
              "      box-shadow: 0px 1px 2px rgba(60, 64, 67, 0.3), 0px 1px 3px 1px rgba(60, 64, 67, 0.15);\n",
              "      fill: #174EA6;\n",
              "    }\n",
              "\n",
              "    [theme=dark] .colab-df-convert {\n",
              "      background-color: #3B4455;\n",
              "      fill: #D2E3FC;\n",
              "    }\n",
              "\n",
              "    [theme=dark] .colab-df-convert:hover {\n",
              "      background-color: #434B5C;\n",
              "      box-shadow: 0px 1px 3px 1px rgba(0, 0, 0, 0.15);\n",
              "      filter: drop-shadow(0px 1px 2px rgba(0, 0, 0, 0.3));\n",
              "      fill: #FFFFFF;\n",
              "    }\n",
              "  </style>\n",
              "\n",
              "      <script>\n",
              "        const buttonEl =\n",
              "          document.querySelector('#df-ad4a9b20-7c10-4f3e-a1d6-d5eb248cb6c0 button.colab-df-convert');\n",
              "        buttonEl.style.display =\n",
              "          google.colab.kernel.accessAllowed ? 'block' : 'none';\n",
              "\n",
              "        async function convertToInteractive(key) {\n",
              "          const element = document.querySelector('#df-ad4a9b20-7c10-4f3e-a1d6-d5eb248cb6c0');\n",
              "          const dataTable =\n",
              "            await google.colab.kernel.invokeFunction('convertToInteractive',\n",
              "                                                     [key], {});\n",
              "          if (!dataTable) return;\n",
              "\n",
              "          const docLinkHtml = 'Like what you see? Visit the ' +\n",
              "            '<a target=\"_blank\" href=https://colab.research.google.com/notebooks/data_table.ipynb>data table notebook</a>'\n",
              "            + ' to learn more about interactive tables.';\n",
              "          element.innerHTML = '';\n",
              "          dataTable['output_type'] = 'display_data';\n",
              "          await google.colab.output.renderOutput(dataTable, element);\n",
              "          const docLink = document.createElement('div');\n",
              "          docLink.innerHTML = docLinkHtml;\n",
              "          element.appendChild(docLink);\n",
              "        }\n",
              "      </script>\n",
              "    </div>\n",
              "  </div>\n",
              "  "
            ]
          },
          "metadata": {},
          "execution_count": 160
        }
      ]
    },
    {
      "cell_type": "code",
      "source": [
        "# Creación de la variable objetivo transformandola a unaa variable dicotómica\n",
        "\n",
        "df['performance'] = np.where(df.performance_acum_home >= 0.55, 0, 1)\n",
        "df = df.drop(columns = ['performance_acum_home'])"
      ],
      "metadata": {
        "id": "bqft7pNKZmbs"
      },
      "execution_count": 161,
      "outputs": []
    },
    {
      "cell_type": "code",
      "source": [
        "df.head()"
      ],
      "metadata": {
        "colab": {
          "base_uri": "https://localhost:8080/",
          "height": 270
        },
        "id": "hoHPBfbjuB0a",
        "outputId": "f1e9c42c-daf3-4b0e-bcfb-be455f54ffd3"
      },
      "execution_count": 23,
      "outputs": [
        {
          "output_type": "execute_result",
          "data": {
            "text/plain": [
              "   clearances_avg_home  corners_avg_home  passes_avg_home  \\\n",
              "0             0.640816          0.353846         0.378066   \n",
              "1             0.465306          0.430769         0.433679   \n",
              "2             0.451020          0.469231         0.567012   \n",
              "3             0.516327          0.307692         0.115717   \n",
              "4             0.646939          0.384615         0.445250   \n",
              "\n",
              "   possession_avg_home  shots_avg_home  shots_on_target_avg_home  \\\n",
              "0             0.457350           0.356                  0.427184   \n",
              "1             0.537205           0.452                  0.514563   \n",
              "2             0.626134           0.500                  0.543689   \n",
              "3             0.228675           0.360                  0.388350   \n",
              "4             0.517241           0.408                  0.436893   \n",
              "\n",
              "   touches_avg_home  goals_scored_ft_avg_home  goals_conced_ft_avg_home  \\\n",
              "0          0.405244                  0.240000                  0.370000   \n",
              "1          0.478300                  0.225000                  0.205000   \n",
              "2          0.598734                  0.388333                  0.178333   \n",
              "3          0.084991                  0.111667                  0.333333   \n",
              "4          0.495660                  0.180000                  0.180000   \n",
              "\n",
              "   performance  \n",
              "0            1  \n",
              "1            1  \n",
              "2            0  \n",
              "3            1  \n",
              "4            1  "
            ],
            "text/html": [
              "\n",
              "  <div id=\"df-f4a63545-b6b6-40c3-b0e8-6f4b577be8dd\">\n",
              "    <div class=\"colab-df-container\">\n",
              "      <div>\n",
              "<style scoped>\n",
              "    .dataframe tbody tr th:only-of-type {\n",
              "        vertical-align: middle;\n",
              "    }\n",
              "\n",
              "    .dataframe tbody tr th {\n",
              "        vertical-align: top;\n",
              "    }\n",
              "\n",
              "    .dataframe thead th {\n",
              "        text-align: right;\n",
              "    }\n",
              "</style>\n",
              "<table border=\"1\" class=\"dataframe\">\n",
              "  <thead>\n",
              "    <tr style=\"text-align: right;\">\n",
              "      <th></th>\n",
              "      <th>clearances_avg_home</th>\n",
              "      <th>corners_avg_home</th>\n",
              "      <th>passes_avg_home</th>\n",
              "      <th>possession_avg_home</th>\n",
              "      <th>shots_avg_home</th>\n",
              "      <th>shots_on_target_avg_home</th>\n",
              "      <th>touches_avg_home</th>\n",
              "      <th>goals_scored_ft_avg_home</th>\n",
              "      <th>goals_conced_ft_avg_home</th>\n",
              "      <th>performance</th>\n",
              "    </tr>\n",
              "  </thead>\n",
              "  <tbody>\n",
              "    <tr>\n",
              "      <th>0</th>\n",
              "      <td>0.640816</td>\n",
              "      <td>0.353846</td>\n",
              "      <td>0.378066</td>\n",
              "      <td>0.457350</td>\n",
              "      <td>0.356</td>\n",
              "      <td>0.427184</td>\n",
              "      <td>0.405244</td>\n",
              "      <td>0.240000</td>\n",
              "      <td>0.370000</td>\n",
              "      <td>1</td>\n",
              "    </tr>\n",
              "    <tr>\n",
              "      <th>1</th>\n",
              "      <td>0.465306</td>\n",
              "      <td>0.430769</td>\n",
              "      <td>0.433679</td>\n",
              "      <td>0.537205</td>\n",
              "      <td>0.452</td>\n",
              "      <td>0.514563</td>\n",
              "      <td>0.478300</td>\n",
              "      <td>0.225000</td>\n",
              "      <td>0.205000</td>\n",
              "      <td>1</td>\n",
              "    </tr>\n",
              "    <tr>\n",
              "      <th>2</th>\n",
              "      <td>0.451020</td>\n",
              "      <td>0.469231</td>\n",
              "      <td>0.567012</td>\n",
              "      <td>0.626134</td>\n",
              "      <td>0.500</td>\n",
              "      <td>0.543689</td>\n",
              "      <td>0.598734</td>\n",
              "      <td>0.388333</td>\n",
              "      <td>0.178333</td>\n",
              "      <td>0</td>\n",
              "    </tr>\n",
              "    <tr>\n",
              "      <th>3</th>\n",
              "      <td>0.516327</td>\n",
              "      <td>0.307692</td>\n",
              "      <td>0.115717</td>\n",
              "      <td>0.228675</td>\n",
              "      <td>0.360</td>\n",
              "      <td>0.388350</td>\n",
              "      <td>0.084991</td>\n",
              "      <td>0.111667</td>\n",
              "      <td>0.333333</td>\n",
              "      <td>1</td>\n",
              "    </tr>\n",
              "    <tr>\n",
              "      <th>4</th>\n",
              "      <td>0.646939</td>\n",
              "      <td>0.384615</td>\n",
              "      <td>0.445250</td>\n",
              "      <td>0.517241</td>\n",
              "      <td>0.408</td>\n",
              "      <td>0.436893</td>\n",
              "      <td>0.495660</td>\n",
              "      <td>0.180000</td>\n",
              "      <td>0.180000</td>\n",
              "      <td>1</td>\n",
              "    </tr>\n",
              "  </tbody>\n",
              "</table>\n",
              "</div>\n",
              "      <button class=\"colab-df-convert\" onclick=\"convertToInteractive('df-f4a63545-b6b6-40c3-b0e8-6f4b577be8dd')\"\n",
              "              title=\"Convert this dataframe to an interactive table.\"\n",
              "              style=\"display:none;\">\n",
              "        \n",
              "  <svg xmlns=\"http://www.w3.org/2000/svg\" height=\"24px\"viewBox=\"0 0 24 24\"\n",
              "       width=\"24px\">\n",
              "    <path d=\"M0 0h24v24H0V0z\" fill=\"none\"/>\n",
              "    <path d=\"M18.56 5.44l.94 2.06.94-2.06 2.06-.94-2.06-.94-.94-2.06-.94 2.06-2.06.94zm-11 1L8.5 8.5l.94-2.06 2.06-.94-2.06-.94L8.5 2.5l-.94 2.06-2.06.94zm10 10l.94 2.06.94-2.06 2.06-.94-2.06-.94-.94-2.06-.94 2.06-2.06.94z\"/><path d=\"M17.41 7.96l-1.37-1.37c-.4-.4-.92-.59-1.43-.59-.52 0-1.04.2-1.43.59L10.3 9.45l-7.72 7.72c-.78.78-.78 2.05 0 2.83L4 21.41c.39.39.9.59 1.41.59.51 0 1.02-.2 1.41-.59l7.78-7.78 2.81-2.81c.8-.78.8-2.07 0-2.86zM5.41 20L4 18.59l7.72-7.72 1.47 1.35L5.41 20z\"/>\n",
              "  </svg>\n",
              "      </button>\n",
              "      \n",
              "  <style>\n",
              "    .colab-df-container {\n",
              "      display:flex;\n",
              "      flex-wrap:wrap;\n",
              "      gap: 12px;\n",
              "    }\n",
              "\n",
              "    .colab-df-convert {\n",
              "      background-color: #E8F0FE;\n",
              "      border: none;\n",
              "      border-radius: 50%;\n",
              "      cursor: pointer;\n",
              "      display: none;\n",
              "      fill: #1967D2;\n",
              "      height: 32px;\n",
              "      padding: 0 0 0 0;\n",
              "      width: 32px;\n",
              "    }\n",
              "\n",
              "    .colab-df-convert:hover {\n",
              "      background-color: #E2EBFA;\n",
              "      box-shadow: 0px 1px 2px rgba(60, 64, 67, 0.3), 0px 1px 3px 1px rgba(60, 64, 67, 0.15);\n",
              "      fill: #174EA6;\n",
              "    }\n",
              "\n",
              "    [theme=dark] .colab-df-convert {\n",
              "      background-color: #3B4455;\n",
              "      fill: #D2E3FC;\n",
              "    }\n",
              "\n",
              "    [theme=dark] .colab-df-convert:hover {\n",
              "      background-color: #434B5C;\n",
              "      box-shadow: 0px 1px 3px 1px rgba(0, 0, 0, 0.15);\n",
              "      filter: drop-shadow(0px 1px 2px rgba(0, 0, 0, 0.3));\n",
              "      fill: #FFFFFF;\n",
              "    }\n",
              "  </style>\n",
              "\n",
              "      <script>\n",
              "        const buttonEl =\n",
              "          document.querySelector('#df-f4a63545-b6b6-40c3-b0e8-6f4b577be8dd button.colab-df-convert');\n",
              "        buttonEl.style.display =\n",
              "          google.colab.kernel.accessAllowed ? 'block' : 'none';\n",
              "\n",
              "        async function convertToInteractive(key) {\n",
              "          const element = document.querySelector('#df-f4a63545-b6b6-40c3-b0e8-6f4b577be8dd');\n",
              "          const dataTable =\n",
              "            await google.colab.kernel.invokeFunction('convertToInteractive',\n",
              "                                                     [key], {});\n",
              "          if (!dataTable) return;\n",
              "\n",
              "          const docLinkHtml = 'Like what you see? Visit the ' +\n",
              "            '<a target=\"_blank\" href=https://colab.research.google.com/notebooks/data_table.ipynb>data table notebook</a>'\n",
              "            + ' to learn more about interactive tables.';\n",
              "          element.innerHTML = '';\n",
              "          dataTable['output_type'] = 'display_data';\n",
              "          await google.colab.output.renderOutput(dataTable, element);\n",
              "          const docLink = document.createElement('div');\n",
              "          docLink.innerHTML = docLinkHtml;\n",
              "          element.appendChild(docLink);\n",
              "        }\n",
              "      </script>\n",
              "    </div>\n",
              "  </div>\n",
              "  "
            ]
          },
          "metadata": {},
          "execution_count": 23
        }
      ]
    },
    {
      "cell_type": "code",
      "source": [
        "# Asignación de la variable predictoria(Y) y la variable objetivo (X)\n",
        "\n",
        "X = df.drop(columns = 'performance')\n",
        "Y = df.performance"
      ],
      "metadata": {
        "id": "i2Lp65Frae4-"
      },
      "execution_count": 162,
      "outputs": []
    },
    {
      "cell_type": "code",
      "source": [
        "Y.value_counts()"
      ],
      "metadata": {
        "colab": {
          "base_uri": "https://localhost:8080/"
        },
        "id": "eAzkF3-KVuuz",
        "outputId": "2e5d82be-2bbf-456d-f837-34b24710f530"
      },
      "execution_count": 163,
      "outputs": [
        {
          "output_type": "execute_result",
          "data": {
            "text/plain": [
              "1    2779\n",
              "0    1181\n",
              "Name: performance, dtype: int64"
            ]
          },
          "metadata": {},
          "execution_count": 163
        }
      ]
    },
    {
      "cell_type": "code",
      "source": [
        "Y.value_counts().plot.pie(autopct = '%.2f')"
      ],
      "metadata": {
        "colab": {
          "base_uri": "https://localhost:8080/",
          "height": 265
        },
        "id": "GWk-h1tNWRX2",
        "outputId": "c5de1a78-ba8a-4849-e4b3-ebb3b084c3e1"
      },
      "execution_count": 164,
      "outputs": [
        {
          "output_type": "execute_result",
          "data": {
            "text/plain": [
              "<matplotlib.axes._subplots.AxesSubplot at 0x7f1114889750>"
            ]
          },
          "metadata": {},
          "execution_count": 164
        },
        {
          "output_type": "display_data",
          "data": {
            "text/plain": [
              "<Figure size 432x288 with 1 Axes>"
            ],
            "image/png": "[encoded data removed]"
          },
          "metadata": {}
        }
      ]
    },
    {
      "cell_type": "code",
      "source": [
        "rus = RandomUnderSampler(sampling_strategy=1)\n",
        "x_res, y_res = rus.fit_resample(X,Y)\n"
      ],
      "metadata": {
        "id": "OGY3lOVUY18b"
      },
      "execution_count": 165,
      "outputs": []
    },
    {
      "cell_type": "code",
      "source": [
        "ax = y_res.value_counts().plot.pie(autopct = '%.2f')\n",
        "_ = ax.set_title(\"Under-sampling\")"
      ],
      "metadata": {
        "colab": {
          "base_uri": "https://localhost:8080/",
          "height": 264
        },
        "id": "XQewaR12ZgsA",
        "outputId": "a3f26d65-de87-475e-826d-ae4b5b1b0e00"
      },
      "execution_count": 166,
      "outputs": [
        {
          "output_type": "display_data",
          "data": {
            "text/plain": [
              "<Figure size 432x288 with 1 Axes>"
            ],
            "image/png": "[encoded data removed]"
          },
          "metadata": {}
        }
      ]
    },
    {
      "cell_type": "code",
      "source": [
        "y_res.value_counts()"
      ],
      "metadata": {
        "colab": {
          "base_uri": "https://localhost:8080/"
        },
        "id": "CHP58LvSZTOZ",
        "outputId": "e876bc10-aed4-4a92-dd60-6725d649c848"
      },
      "execution_count": 167,
      "outputs": [
        {
          "output_type": "execute_result",
          "data": {
            "text/plain": [
              "0    1181\n",
              "1    1181\n",
              "Name: performance, dtype: int64"
            ]
          },
          "metadata": {},
          "execution_count": 167
        }
      ]
    },
    {
      "cell_type": "code",
      "source": [
        "X = x_res\n",
        "Y = y_res"
      ],
      "metadata": {
        "id": "yiXZtWR6ad0O"
      },
      "execution_count": 168,
      "outputs": []
    },
    {
      "cell_type": "code",
      "source": [
        "# over sampling\n",
        "ros = RandomOverSampler(sampling_strategy=1)\n",
        "x_res, y_res = ros.fit_resample(X,Y)\n",
        "ax = y_res.value_counts().plot.pie(autopct = '%.2f')\n",
        "_ = ax.set_title(\"Over-sampling\")\n",
        "print(y_res.value_counts())"
      ],
      "metadata": {
        "id": "fYQtNkAHcNKW"
      },
      "execution_count": null,
      "outputs": []
    },
    {
      "cell_type": "code",
      "source": [
        "X.head()"
      ],
      "metadata": {
        "colab": {
          "base_uri": "https://localhost:8080/",
          "height": 270
        },
        "id": "YTJSNV46u6T2",
        "outputId": "25fbf142-a6a0-4113-950a-73c8a0b48720"
      },
      "execution_count": 139,
      "outputs": [
        {
          "output_type": "execute_result",
          "data": {
            "text/plain": [
              "   clearances_avg_home  corners_avg_home  passes_avg_home  \\\n",
              "0             0.685714          0.353846         0.531120   \n",
              "1             0.532143          0.430769         0.573047   \n",
              "2             0.519643          0.469231         0.673568   \n",
              "3             0.576786          0.307692         0.333333   \n",
              "4             0.691071          0.384615         0.581771   \n",
              "\n",
              "   possession_avg_home  shots_avg_home  shots_on_target_avg_home  \\\n",
              "0             0.617647        0.444828                  0.427184   \n",
              "1             0.673913        0.527586                  0.514563   \n",
              "2             0.736573        0.568966                  0.543689   \n",
              "3             0.456522        0.448276                  0.388350   \n",
              "4             0.659847        0.489655                  0.436893   \n",
              "\n",
              "   touches_avg_home  goals_scored_ft_avg_home  goals_conced_ft_avg_home  \n",
              "0          0.653059                  0.240000                  0.370000  \n",
              "1          0.695675                  0.225000                  0.205000  \n",
              "2          0.765928                  0.388333                  0.178333  \n",
              "3          0.466245                  0.111667                  0.333333  \n",
              "4          0.705802                  0.180000                  0.180000  "
            ],
            "text/html": [
              "\n",
              "  <div id=\"df-fa3ca299-e5b8-4e76-b2ff-f0391dcae4ac\">\n",
              "    <div class=\"colab-df-container\">\n",
              "      <div>\n",
              "<style scoped>\n",
              "    .dataframe tbody tr th:only-of-type {\n",
              "        vertical-align: middle;\n",
              "    }\n",
              "\n",
              "    .dataframe tbody tr th {\n",
              "        vertical-align: top;\n",
              "    }\n",
              "\n",
              "    .dataframe thead th {\n",
              "        text-align: right;\n",
              "    }\n",
              "</style>\n",
              "<table border=\"1\" class=\"dataframe\">\n",
              "  <thead>\n",
              "    <tr style=\"text-align: right;\">\n",
              "      <th></th>\n",
              "      <th>clearances_avg_home</th>\n",
              "      <th>corners_avg_home</th>\n",
              "      <th>passes_avg_home</th>\n",
              "      <th>possession_avg_home</th>\n",
              "      <th>shots_avg_home</th>\n",
              "      <th>shots_on_target_avg_home</th>\n",
              "      <th>touches_avg_home</th>\n",
              "      <th>goals_scored_ft_avg_home</th>\n",
              "      <th>goals_conced_ft_avg_home</th>\n",
              "    </tr>\n",
              "  </thead>\n",
              "  <tbody>\n",
              "    <tr>\n",
              "      <th>0</th>\n",
              "      <td>0.685714</td>\n",
              "      <td>0.353846</td>\n",
              "      <td>0.531120</td>\n",
              "      <td>0.617647</td>\n",
              "      <td>0.444828</td>\n",
              "      <td>0.427184</td>\n",
              "      <td>0.653059</td>\n",
              "      <td>0.240000</td>\n",
              "      <td>0.370000</td>\n",
              "    </tr>\n",
              "    <tr>\n",
              "      <th>1</th>\n",
              "      <td>0.532143</td>\n",
              "      <td>0.430769</td>\n",
              "      <td>0.573047</td>\n",
              "      <td>0.673913</td>\n",
              "      <td>0.527586</td>\n",
              "      <td>0.514563</td>\n",
              "      <td>0.695675</td>\n",
              "      <td>0.225000</td>\n",
              "      <td>0.205000</td>\n",
              "    </tr>\n",
              "    <tr>\n",
              "      <th>2</th>\n",
              "      <td>0.519643</td>\n",
              "      <td>0.469231</td>\n",
              "      <td>0.673568</td>\n",
              "      <td>0.736573</td>\n",
              "      <td>0.568966</td>\n",
              "      <td>0.543689</td>\n",
              "      <td>0.765928</td>\n",
              "      <td>0.388333</td>\n",
              "      <td>0.178333</td>\n",
              "    </tr>\n",
              "    <tr>\n",
              "      <th>3</th>\n",
              "      <td>0.576786</td>\n",
              "      <td>0.307692</td>\n",
              "      <td>0.333333</td>\n",
              "      <td>0.456522</td>\n",
              "      <td>0.448276</td>\n",
              "      <td>0.388350</td>\n",
              "      <td>0.466245</td>\n",
              "      <td>0.111667</td>\n",
              "      <td>0.333333</td>\n",
              "    </tr>\n",
              "    <tr>\n",
              "      <th>4</th>\n",
              "      <td>0.691071</td>\n",
              "      <td>0.384615</td>\n",
              "      <td>0.581771</td>\n",
              "      <td>0.659847</td>\n",
              "      <td>0.489655</td>\n",
              "      <td>0.436893</td>\n",
              "      <td>0.705802</td>\n",
              "      <td>0.180000</td>\n",
              "      <td>0.180000</td>\n",
              "    </tr>\n",
              "  </tbody>\n",
              "</table>\n",
              "</div>\n",
              "      <button class=\"colab-df-convert\" onclick=\"convertToInteractive('df-fa3ca299-e5b8-4e76-b2ff-f0391dcae4ac')\"\n",
              "              title=\"Convert this dataframe to an interactive table.\"\n",
              "              style=\"display:none;\">\n",
              "        \n",
              "  <svg xmlns=\"http://www.w3.org/2000/svg\" height=\"24px\"viewBox=\"0 0 24 24\"\n",
              "       width=\"24px\">\n",
              "    <path d=\"M0 0h24v24H0V0z\" fill=\"none\"/>\n",
              "    <path d=\"M18.56 5.44l.94 2.06.94-2.06 2.06-.94-2.06-.94-.94-2.06-.94 2.06-2.06.94zm-11 1L8.5 8.5l.94-2.06 2.06-.94-2.06-.94L8.5 2.5l-.94 2.06-2.06.94zm10 10l.94 2.06.94-2.06 2.06-.94-2.06-.94-.94-2.06-.94 2.06-2.06.94z\"/><path d=\"M17.41 7.96l-1.37-1.37c-.4-.4-.92-.59-1.43-.59-.52 0-1.04.2-1.43.59L10.3 9.45l-7.72 7.72c-.78.78-.78 2.05 0 2.83L4 21.41c.39.39.9.59 1.41.59.51 0 1.02-.2 1.41-.59l7.78-7.78 2.81-2.81c.8-.78.8-2.07 0-2.86zM5.41 20L4 18.59l7.72-7.72 1.47 1.35L5.41 20z\"/>\n",
              "  </svg>\n",
              "      </button>\n",
              "      \n",
              "  <style>\n",
              "    .colab-df-container {\n",
              "      display:flex;\n",
              "      flex-wrap:wrap;\n",
              "      gap: 12px;\n",
              "    }\n",
              "\n",
              "    .colab-df-convert {\n",
              "      background-color: #E8F0FE;\n",
              "      border: none;\n",
              "      border-radius: 50%;\n",
              "      cursor: pointer;\n",
              "      display: none;\n",
              "      fill: #1967D2;\n",
              "      height: 32px;\n",
              "      padding: 0 0 0 0;\n",
              "      width: 32px;\n",
              "    }\n",
              "\n",
              "    .colab-df-convert:hover {\n",
              "      background-color: #E2EBFA;\n",
              "      box-shadow: 0px 1px 2px rgba(60, 64, 67, 0.3), 0px 1px 3px 1px rgba(60, 64, 67, 0.15);\n",
              "      fill: #174EA6;\n",
              "    }\n",
              "\n",
              "    [theme=dark] .colab-df-convert {\n",
              "      background-color: #3B4455;\n",
              "      fill: #D2E3FC;\n",
              "    }\n",
              "\n",
              "    [theme=dark] .colab-df-convert:hover {\n",
              "      background-color: #434B5C;\n",
              "      box-shadow: 0px 1px 3px 1px rgba(0, 0, 0, 0.15);\n",
              "      filter: drop-shadow(0px 1px 2px rgba(0, 0, 0, 0.3));\n",
              "      fill: #FFFFFF;\n",
              "    }\n",
              "  </style>\n",
              "\n",
              "      <script>\n",
              "        const buttonEl =\n",
              "          document.querySelector('#df-fa3ca299-e5b8-4e76-b2ff-f0391dcae4ac button.colab-df-convert');\n",
              "        buttonEl.style.display =\n",
              "          google.colab.kernel.accessAllowed ? 'block' : 'none';\n",
              "\n",
              "        async function convertToInteractive(key) {\n",
              "          const element = document.querySelector('#df-fa3ca299-e5b8-4e76-b2ff-f0391dcae4ac');\n",
              "          const dataTable =\n",
              "            await google.colab.kernel.invokeFunction('convertToInteractive',\n",
              "                                                     [key], {});\n",
              "          if (!dataTable) return;\n",
              "\n",
              "          const docLinkHtml = 'Like what you see? Visit the ' +\n",
              "            '<a target=\"_blank\" href=https://colab.research.google.com/notebooks/data_table.ipynb>data table notebook</a>'\n",
              "            + ' to learn more about interactive tables.';\n",
              "          element.innerHTML = '';\n",
              "          dataTable['output_type'] = 'display_data';\n",
              "          await google.colab.output.renderOutput(dataTable, element);\n",
              "          const docLink = document.createElement('div');\n",
              "          docLink.innerHTML = docLinkHtml;\n",
              "          element.appendChild(docLink);\n",
              "        }\n",
              "      </script>\n",
              "    </div>\n",
              "  </div>\n",
              "  "
            ]
          },
          "metadata": {},
          "execution_count": 139
        }
      ]
    },
    {
      "cell_type": "code",
      "source": [
        "Y"
      ],
      "metadata": {
        "colab": {
          "base_uri": "https://localhost:8080/"
        },
        "id": "bYpKHlGfvAZw",
        "outputId": "30efd8ea-96d4-4a4c-b7a4-69b34b7890b5"
      },
      "execution_count": 96,
      "outputs": [
        {
          "output_type": "execute_result",
          "data": {
            "text/plain": [
              "0       0\n",
              "1       0\n",
              "2       0\n",
              "3       1\n",
              "4       0\n",
              "       ..\n",
              "7777    1\n",
              "7778    1\n",
              "7779    1\n",
              "7780    1\n",
              "7781    1\n",
              "Name: performance, Length: 7782, dtype: int64"
            ]
          },
          "metadata": {},
          "execution_count": 96
        }
      ]
    },
    {
      "cell_type": "code",
      "source": [
        "# Separando la data para la fase de entrenamiento (75%) y fase de prueba (25%)\n",
        "\n",
        "X_train, X_test, Y_train, Y_test = train_test_split(X, Y, train_size = 0.75, random_state=0)"
      ],
      "metadata": {
        "id": "a8EXLDAXbFxK"
      },
      "execution_count": 170,
      "outputs": []
    },
    {
      "cell_type": "code",
      "source": [
        "# Creación del modelo y asignación de los parámetros\n",
        "\n",
        "model = DecisionTreeClassifier()\n",
        "arbol = model.fit(X_train, Y_train)"
      ],
      "metadata": {
        "id": "GBHDALeIbPBW"
      },
      "execution_count": 171,
      "outputs": []
    },
    {
      "cell_type": "code",
      "source": [
        "plt.figure(figsize=(150,100))"
      ],
      "metadata": {
        "colab": {
          "base_uri": "https://localhost:8080/",
          "height": 52
        },
        "id": "P-Z0q0BdbV_9",
        "outputId": "a0b44431-fb1c-446c-f5f2-f00e0849d1a2"
      },
      "execution_count": 172,
      "outputs": [
        {
          "output_type": "execute_result",
          "data": {
            "text/plain": [
              "<Figure size 10800x7200 with 0 Axes>"
            ]
          },
          "metadata": {},
          "execution_count": 172
        },
        {
          "output_type": "display_data",
          "data": {
            "text/plain": [
              "<Figure size 10800x7200 with 0 Axes>"
            ]
          },
          "metadata": {}
        }
      ]
    },
    {
      "cell_type": "code",
      "source": [
        "# Visualizar el modelo\n",
        "\n",
        "tree.plot_tree(arbol, feature_names=list(X.columns.values), class_names=list(str(Y.values)), filled=True)\n",
        "plt.show()\n"
      ],
      "metadata": {
        "colab": {
          "base_uri": "https://localhost:8080/",
          "height": 248
        },
        "id": "6Aqdr-s5bYDn",
        "outputId": "e972f0b2-849f-40a9-b512-6b2f0e8344c0"
      },
      "execution_count": 173,
      "outputs": [
        {
          "output_type": "display_data",
          "data": {
            "text/plain": [
              "<Figure size 432x288 with 1 Axes>"
            ],
            "image/png": "[encoded data removed]"
          },
          "metadata": {
            "needs_background": "light"
          }
        }
      ]
    },
    {
      "cell_type": "code",
      "source": [
        "# Visualizar el modelo en formato texto\n",
        "\n",
        "texto_modelo = export_text(\n",
        "                    decision_tree = arbol,\n",
        "                    feature_names = list(X.columns.values))\n",
        "               \n",
        "print(texto_modelo)"
      ],
      "metadata": {
        "id": "GAPVR39aPXhG",
        "colab": {
          "base_uri": "https://localhost:8080/"
        },
        "outputId": "239b6a03-8552-4e27-e899-fa61f36b4148"
      },
      "execution_count": 174,
      "outputs": [
        {
          "output_type": "stream",
          "name": "stdout",
          "text": [
            "|--- goals_scored_ft_avg_home <= 0.25\n",
            "|   |--- goals_conced_ft_avg_home <= 0.16\n",
            "|   |   |--- goals_scored_ft_avg_home <= 0.15\n",
            "|   |   |   |--- corners_avg_home <= 0.49\n",
            "|   |   |   |   |--- goals_conced_ft_avg_home <= 0.07\n",
            "|   |   |   |   |   |--- possession_avg_home <= 0.45\n",
            "|   |   |   |   |   |   |--- class: 0\n",
            "|   |   |   |   |   |--- possession_avg_home >  0.45\n",
            "|   |   |   |   |   |   |--- class: 1\n",
            "|   |   |   |   |--- goals_conced_ft_avg_home >  0.07\n",
            "|   |   |   |   |   |--- class: 1\n",
            "|   |   |   |--- corners_avg_home >  0.49\n",
            "|   |   |   |   |--- corners_avg_home <= 0.60\n",
            "|   |   |   |   |   |--- class: 0\n",
            "|   |   |   |   |--- corners_avg_home >  0.60\n",
            "|   |   |   |   |   |--- class: 1\n",
            "|   |   |--- goals_scored_ft_avg_home >  0.15\n",
            "|   |   |   |--- goals_conced_ft_avg_home <= 0.13\n",
            "|   |   |   |   |--- passes_avg_home <= 0.25\n",
            "|   |   |   |   |   |--- goals_conced_ft_avg_home <= 0.06\n",
            "|   |   |   |   |   |   |--- class: 0\n",
            "|   |   |   |   |   |--- goals_conced_ft_avg_home >  0.06\n",
            "|   |   |   |   |   |   |--- class: 1\n",
            "|   |   |   |   |--- passes_avg_home >  0.25\n",
            "|   |   |   |   |   |--- class: 0\n",
            "|   |   |   |--- goals_conced_ft_avg_home >  0.13\n",
            "|   |   |   |   |--- goals_scored_ft_avg_home <= 0.20\n",
            "|   |   |   |   |   |--- goals_conced_ft_avg_home <= 0.14\n",
            "|   |   |   |   |   |   |--- class: 0\n",
            "|   |   |   |   |   |--- goals_conced_ft_avg_home >  0.14\n",
            "|   |   |   |   |   |   |--- class: 1\n",
            "|   |   |   |   |--- goals_scored_ft_avg_home >  0.20\n",
            "|   |   |   |   |   |--- shots_on_target_avg_home <= 0.34\n",
            "|   |   |   |   |   |   |--- class: 1\n",
            "|   |   |   |   |   |--- shots_on_target_avg_home >  0.34\n",
            "|   |   |   |   |   |   |--- shots_avg_home <= 0.39\n",
            "|   |   |   |   |   |   |   |--- shots_avg_home <= 0.37\n",
            "|   |   |   |   |   |   |   |   |--- passes_avg_home <= 0.59\n",
            "|   |   |   |   |   |   |   |   |   |--- class: 0\n",
            "|   |   |   |   |   |   |   |   |--- passes_avg_home >  0.59\n",
            "|   |   |   |   |   |   |   |   |   |--- corners_avg_home <= 0.44\n",
            "|   |   |   |   |   |   |   |   |   |   |--- class: 0\n",
            "|   |   |   |   |   |   |   |   |   |--- corners_avg_home >  0.44\n",
            "|   |   |   |   |   |   |   |   |   |   |--- class: 1\n",
            "|   |   |   |   |   |   |   |--- shots_avg_home >  0.37\n",
            "|   |   |   |   |   |   |   |   |--- class: 1\n",
            "|   |   |   |   |   |   |--- shots_avg_home >  0.39\n",
            "|   |   |   |   |   |   |   |--- class: 0\n",
            "|   |--- goals_conced_ft_avg_home >  0.16\n",
            "|   |   |--- shots_avg_home <= 0.44\n",
            "|   |   |   |--- goals_scored_ft_avg_home <= 0.23\n",
            "|   |   |   |   |--- passes_avg_home <= 0.63\n",
            "|   |   |   |   |   |--- shots_on_target_avg_home <= 0.15\n",
            "|   |   |   |   |   |   |--- goals_scored_ft_avg_home <= 0.10\n",
            "|   |   |   |   |   |   |   |--- class: 1\n",
            "|   |   |   |   |   |   |--- goals_scored_ft_avg_home >  0.10\n",
            "|   |   |   |   |   |   |   |--- class: 0\n",
            "|   |   |   |   |   |--- shots_on_target_avg_home >  0.15\n",
            "|   |   |   |   |   |   |--- goals_scored_ft_avg_home <= 0.21\n",
            "|   |   |   |   |   |   |   |--- clearances_avg_home <= 0.27\n",
            "|   |   |   |   |   |   |   |   |--- clearances_avg_home <= 0.27\n",
            "|   |   |   |   |   |   |   |   |   |--- goals_conced_ft_avg_home <= 0.17\n",
            "|   |   |   |   |   |   |   |   |   |   |--- clearances_avg_home <= 0.25\n",
            "|   |   |   |   |   |   |   |   |   |   |   |--- class: 1\n",
            "|   |   |   |   |   |   |   |   |   |   |--- clearances_avg_home >  0.25\n",
            "|   |   |   |   |   |   |   |   |   |   |   |--- class: 0\n",
            "|   |   |   |   |   |   |   |   |   |--- goals_conced_ft_avg_home >  0.17\n",
            "|   |   |   |   |   |   |   |   |   |   |--- class: 1\n",
            "|   |   |   |   |   |   |   |   |--- clearances_avg_home >  0.27\n",
            "|   |   |   |   |   |   |   |   |   |--- passes_avg_home <= 0.37\n",
            "|   |   |   |   |   |   |   |   |   |   |--- class: 1\n",
            "|   |   |   |   |   |   |   |   |   |--- passes_avg_home >  0.37\n",
            "|   |   |   |   |   |   |   |   |   |   |--- class: 0\n",
            "|   |   |   |   |   |   |   |--- clearances_avg_home >  0.27\n",
            "|   |   |   |   |   |   |   |   |--- corners_avg_home <= 0.27\n",
            "|   |   |   |   |   |   |   |   |   |--- corners_avg_home <= 0.27\n",
            "|   |   |   |   |   |   |   |   |   |   |--- class: 1\n",
            "|   |   |   |   |   |   |   |   |   |--- corners_avg_home >  0.27\n",
            "|   |   |   |   |   |   |   |   |   |   |--- shots_avg_home <= 0.25\n",
            "|   |   |   |   |   |   |   |   |   |   |   |--- class: 1\n",
            "|   |   |   |   |   |   |   |   |   |   |--- shots_avg_home >  0.25\n",
            "|   |   |   |   |   |   |   |   |   |   |   |--- class: 0\n",
            "|   |   |   |   |   |   |   |   |--- corners_avg_home >  0.27\n",
            "|   |   |   |   |   |   |   |   |   |--- class: 1\n",
            "|   |   |   |   |   |   |--- goals_scored_ft_avg_home >  0.21\n",
            "|   |   |   |   |   |   |   |--- goals_conced_ft_avg_home <= 0.17\n",
            "|   |   |   |   |   |   |   |   |--- possession_avg_home <= 0.44\n",
            "|   |   |   |   |   |   |   |   |   |--- class: 0\n",
            "|   |   |   |   |   |   |   |   |--- possession_avg_home >  0.44\n",
            "|   |   |   |   |   |   |   |   |   |--- class: 1\n",
            "|   |   |   |   |   |   |   |--- goals_conced_ft_avg_home >  0.17\n",
            "|   |   |   |   |   |   |   |   |--- touches_avg_home <= 0.57\n",
            "|   |   |   |   |   |   |   |   |   |--- goals_conced_ft_avg_home <= 0.30\n",
            "|   |   |   |   |   |   |   |   |   |   |--- class: 1\n",
            "|   |   |   |   |   |   |   |   |   |--- goals_conced_ft_avg_home >  0.30\n",
            "|   |   |   |   |   |   |   |   |   |   |--- goals_conced_ft_avg_home <= 0.31\n",
            "|   |   |   |   |   |   |   |   |   |   |   |--- truncated branch of depth 2\n",
            "|   |   |   |   |   |   |   |   |   |   |--- goals_conced_ft_avg_home >  0.31\n",
            "|   |   |   |   |   |   |   |   |   |   |   |--- class: 1\n",
            "|   |   |   |   |   |   |   |   |--- touches_avg_home >  0.57\n",
            "|   |   |   |   |   |   |   |   |   |--- touches_avg_home <= 0.58\n",
            "|   |   |   |   |   |   |   |   |   |   |--- class: 0\n",
            "|   |   |   |   |   |   |   |   |   |--- touches_avg_home >  0.58\n",
            "|   |   |   |   |   |   |   |   |   |   |--- class: 1\n",
            "|   |   |   |   |--- passes_avg_home >  0.63\n",
            "|   |   |   |   |   |--- passes_avg_home <= 0.65\n",
            "|   |   |   |   |   |   |--- goals_conced_ft_avg_home <= 0.25\n",
            "|   |   |   |   |   |   |   |--- class: 0\n",
            "|   |   |   |   |   |   |--- goals_conced_ft_avg_home >  0.25\n",
            "|   |   |   |   |   |   |   |--- class: 1\n",
            "|   |   |   |   |   |--- passes_avg_home >  0.65\n",
            "|   |   |   |   |   |   |--- class: 1\n",
            "|   |   |   |--- goals_scored_ft_avg_home >  0.23\n",
            "|   |   |   |   |--- goals_conced_ft_avg_home <= 0.24\n",
            "|   |   |   |   |   |--- possession_avg_home <= 0.46\n",
            "|   |   |   |   |   |   |--- passes_avg_home <= 0.27\n",
            "|   |   |   |   |   |   |   |--- class: 1\n",
            "|   |   |   |   |   |   |--- passes_avg_home >  0.27\n",
            "|   |   |   |   |   |   |   |--- corners_avg_home <= 0.37\n",
            "|   |   |   |   |   |   |   |   |--- class: 0\n",
            "|   |   |   |   |   |   |   |--- corners_avg_home >  0.37\n",
            "|   |   |   |   |   |   |   |   |--- touches_avg_home <= 0.29\n",
            "|   |   |   |   |   |   |   |   |   |--- class: 0\n",
            "|   |   |   |   |   |   |   |   |--- touches_avg_home >  0.29\n",
            "|   |   |   |   |   |   |   |   |   |--- clearances_avg_home <= 0.19\n",
            "|   |   |   |   |   |   |   |   |   |   |--- class: 0\n",
            "|   |   |   |   |   |   |   |   |   |--- clearances_avg_home >  0.19\n",
            "|   |   |   |   |   |   |   |   |   |   |--- possession_avg_home <= 0.45\n",
            "|   |   |   |   |   |   |   |   |   |   |   |--- class: 1\n",
            "|   |   |   |   |   |   |   |   |   |   |--- possession_avg_home >  0.45\n",
            "|   |   |   |   |   |   |   |   |   |   |   |--- class: 0\n",
            "|   |   |   |   |   |--- possession_avg_home >  0.46\n",
            "|   |   |   |   |   |   |--- shots_avg_home <= 0.41\n",
            "|   |   |   |   |   |   |   |--- class: 1\n",
            "|   |   |   |   |   |   |--- shots_avg_home >  0.41\n",
            "|   |   |   |   |   |   |   |--- shots_avg_home <= 0.42\n",
            "|   |   |   |   |   |   |   |   |--- class: 0\n",
            "|   |   |   |   |   |   |   |--- shots_avg_home >  0.42\n",
            "|   |   |   |   |   |   |   |   |--- class: 1\n",
            "|   |   |   |   |--- goals_conced_ft_avg_home >  0.24\n",
            "|   |   |   |   |   |--- class: 1\n",
            "|   |   |--- shots_avg_home >  0.44\n",
            "|   |   |   |--- goals_conced_ft_avg_home <= 0.24\n",
            "|   |   |   |   |--- goals_scored_ft_avg_home <= 0.23\n",
            "|   |   |   |   |   |--- clearances_avg_home <= 0.39\n",
            "|   |   |   |   |   |   |--- clearances_avg_home <= 0.35\n",
            "|   |   |   |   |   |   |   |--- class: 1\n",
            "|   |   |   |   |   |   |--- clearances_avg_home >  0.35\n",
            "|   |   |   |   |   |   |   |--- passes_avg_home <= 0.36\n",
            "|   |   |   |   |   |   |   |   |--- class: 1\n",
            "|   |   |   |   |   |   |   |--- passes_avg_home >  0.36\n",
            "|   |   |   |   |   |   |   |   |--- class: 0\n",
            "|   |   |   |   |   |--- clearances_avg_home >  0.39\n",
            "|   |   |   |   |   |   |--- clearances_avg_home <= 0.58\n",
            "|   |   |   |   |   |   |   |--- class: 1\n",
            "|   |   |   |   |   |   |--- clearances_avg_home >  0.58\n",
            "|   |   |   |   |   |   |   |--- class: 0\n",
            "|   |   |   |   |--- goals_scored_ft_avg_home >  0.23\n",
            "|   |   |   |   |   |--- corners_avg_home <= 0.62\n",
            "|   |   |   |   |   |   |--- goals_scored_ft_avg_home <= 0.25\n",
            "|   |   |   |   |   |   |   |--- shots_on_target_avg_home <= 0.49\n",
            "|   |   |   |   |   |   |   |   |--- touches_avg_home <= 0.56\n",
            "|   |   |   |   |   |   |   |   |   |--- class: 0\n",
            "|   |   |   |   |   |   |   |   |--- touches_avg_home >  0.56\n",
            "|   |   |   |   |   |   |   |   |   |--- class: 1\n",
            "|   |   |   |   |   |   |   |--- shots_on_target_avg_home >  0.49\n",
            "|   |   |   |   |   |   |   |   |--- class: 0\n",
            "|   |   |   |   |   |   |--- goals_scored_ft_avg_home >  0.25\n",
            "|   |   |   |   |   |   |   |--- class: 1\n",
            "|   |   |   |   |   |--- corners_avg_home >  0.62\n",
            "|   |   |   |   |   |   |--- class: 1\n",
            "|   |   |   |--- goals_conced_ft_avg_home >  0.24\n",
            "|   |   |   |   |--- class: 1\n",
            "|--- goals_scored_ft_avg_home >  0.25\n",
            "|   |--- goals_conced_ft_avg_home <= 0.23\n",
            "|   |   |--- goals_scored_ft_avg_home <= 0.28\n",
            "|   |   |   |--- goals_conced_ft_avg_home <= 0.18\n",
            "|   |   |   |   |--- corners_avg_home <= 0.54\n",
            "|   |   |   |   |   |--- clearances_avg_home <= 0.27\n",
            "|   |   |   |   |   |   |--- passes_avg_home <= 0.67\n",
            "|   |   |   |   |   |   |   |--- class: 1\n",
            "|   |   |   |   |   |   |--- passes_avg_home >  0.67\n",
            "|   |   |   |   |   |   |   |--- class: 0\n",
            "|   |   |   |   |   |--- clearances_avg_home >  0.27\n",
            "|   |   |   |   |   |   |--- class: 0\n",
            "|   |   |   |   |--- corners_avg_home >  0.54\n",
            "|   |   |   |   |   |--- clearances_avg_home <= 0.45\n",
            "|   |   |   |   |   |   |--- class: 1\n",
            "|   |   |   |   |   |--- clearances_avg_home >  0.45\n",
            "|   |   |   |   |   |   |--- class: 0\n",
            "|   |   |   |--- goals_conced_ft_avg_home >  0.18\n",
            "|   |   |   |   |--- corners_avg_home <= 0.38\n",
            "|   |   |   |   |   |--- class: 0\n",
            "|   |   |   |   |--- corners_avg_home >  0.38\n",
            "|   |   |   |   |   |--- clearances_avg_home <= 0.48\n",
            "|   |   |   |   |   |   |--- clearances_avg_home <= 0.42\n",
            "|   |   |   |   |   |   |   |--- goals_conced_ft_avg_home <= 0.20\n",
            "|   |   |   |   |   |   |   |   |--- corners_avg_home <= 0.59\n",
            "|   |   |   |   |   |   |   |   |   |--- class: 0\n",
            "|   |   |   |   |   |   |   |   |--- corners_avg_home >  0.59\n",
            "|   |   |   |   |   |   |   |   |   |--- class: 1\n",
            "|   |   |   |   |   |   |   |--- goals_conced_ft_avg_home >  0.20\n",
            "|   |   |   |   |   |   |   |   |--- corners_avg_home <= 0.49\n",
            "|   |   |   |   |   |   |   |   |   |--- corners_avg_home <= 0.46\n",
            "|   |   |   |   |   |   |   |   |   |   |--- class: 1\n",
            "|   |   |   |   |   |   |   |   |   |--- corners_avg_home >  0.46\n",
            "|   |   |   |   |   |   |   |   |   |   |--- touches_avg_home <= 0.78\n",
            "|   |   |   |   |   |   |   |   |   |   |   |--- class: 0\n",
            "|   |   |   |   |   |   |   |   |   |   |--- touches_avg_home >  0.78\n",
            "|   |   |   |   |   |   |   |   |   |   |   |--- class: 1\n",
            "|   |   |   |   |   |   |   |   |--- corners_avg_home >  0.49\n",
            "|   |   |   |   |   |   |   |   |   |--- class: 1\n",
            "|   |   |   |   |   |   |--- clearances_avg_home >  0.42\n",
            "|   |   |   |   |   |   |   |--- class: 1\n",
            "|   |   |   |   |   |--- clearances_avg_home >  0.48\n",
            "|   |   |   |   |   |   |--- passes_avg_home <= 0.31\n",
            "|   |   |   |   |   |   |   |--- class: 1\n",
            "|   |   |   |   |   |   |--- passes_avg_home >  0.31\n",
            "|   |   |   |   |   |   |   |--- shots_avg_home <= 0.36\n",
            "|   |   |   |   |   |   |   |   |--- goals_conced_ft_avg_home <= 0.21\n",
            "|   |   |   |   |   |   |   |   |   |--- class: 1\n",
            "|   |   |   |   |   |   |   |   |--- goals_conced_ft_avg_home >  0.21\n",
            "|   |   |   |   |   |   |   |   |   |--- class: 0\n",
            "|   |   |   |   |   |   |   |--- shots_avg_home >  0.36\n",
            "|   |   |   |   |   |   |   |   |--- class: 0\n",
            "|   |   |--- goals_scored_ft_avg_home >  0.28\n",
            "|   |   |   |--- goals_conced_ft_avg_home <= 0.22\n",
            "|   |   |   |   |--- corners_avg_home <= 0.70\n",
            "|   |   |   |   |   |--- goals_scored_ft_avg_home <= 0.31\n",
            "|   |   |   |   |   |   |--- clearances_avg_home <= 0.15\n",
            "|   |   |   |   |   |   |   |--- corners_avg_home <= 0.45\n",
            "|   |   |   |   |   |   |   |   |--- class: 1\n",
            "|   |   |   |   |   |   |   |--- corners_avg_home >  0.45\n",
            "|   |   |   |   |   |   |   |   |--- class: 0\n",
            "|   |   |   |   |   |   |--- clearances_avg_home >  0.15\n",
            "|   |   |   |   |   |   |   |--- corners_avg_home <= 0.58\n",
            "|   |   |   |   |   |   |   |   |--- passes_avg_home <= 0.34\n",
            "|   |   |   |   |   |   |   |   |   |--- corners_avg_home <= 0.47\n",
            "|   |   |   |   |   |   |   |   |   |   |--- class: 0\n",
            "|   |   |   |   |   |   |   |   |   |--- corners_avg_home >  0.47\n",
            "|   |   |   |   |   |   |   |   |   |   |--- class: 1\n",
            "|   |   |   |   |   |   |   |   |--- passes_avg_home >  0.34\n",
            "|   |   |   |   |   |   |   |   |   |--- goals_scored_ft_avg_home <= 0.31\n",
            "|   |   |   |   |   |   |   |   |   |   |--- class: 0\n",
            "|   |   |   |   |   |   |   |   |   |--- goals_scored_ft_avg_home >  0.31\n",
            "|   |   |   |   |   |   |   |   |   |   |--- shots_on_target_avg_home <= 0.51\n",
            "|   |   |   |   |   |   |   |   |   |   |   |--- truncated branch of depth 2\n",
            "|   |   |   |   |   |   |   |   |   |   |--- shots_on_target_avg_home >  0.51\n",
            "|   |   |   |   |   |   |   |   |   |   |   |--- class: 0\n",
            "|   |   |   |   |   |   |   |--- corners_avg_home >  0.58\n",
            "|   |   |   |   |   |   |   |   |--- touches_avg_home <= 0.75\n",
            "|   |   |   |   |   |   |   |   |   |--- class: 0\n",
            "|   |   |   |   |   |   |   |   |--- touches_avg_home >  0.75\n",
            "|   |   |   |   |   |   |   |   |   |--- class: 1\n",
            "|   |   |   |   |   |--- goals_scored_ft_avg_home >  0.31\n",
            "|   |   |   |   |   |   |--- class: 0\n",
            "|   |   |   |   |--- corners_avg_home >  0.70\n",
            "|   |   |   |   |   |--- possession_avg_home <= 0.66\n",
            "|   |   |   |   |   |   |--- class: 1\n",
            "|   |   |   |   |   |--- possession_avg_home >  0.66\n",
            "|   |   |   |   |   |   |--- class: 0\n",
            "|   |   |   |--- goals_conced_ft_avg_home >  0.22\n",
            "|   |   |   |   |--- shots_on_target_avg_home <= 0.53\n",
            "|   |   |   |   |   |--- shots_avg_home <= 0.37\n",
            "|   |   |   |   |   |   |--- corners_avg_home <= 0.47\n",
            "|   |   |   |   |   |   |   |--- class: 0\n",
            "|   |   |   |   |   |   |--- corners_avg_home >  0.47\n",
            "|   |   |   |   |   |   |   |--- touches_avg_home <= 0.47\n",
            "|   |   |   |   |   |   |   |   |--- class: 0\n",
            "|   |   |   |   |   |   |   |--- touches_avg_home >  0.47\n",
            "|   |   |   |   |   |   |   |   |--- class: 1\n",
            "|   |   |   |   |   |--- shots_avg_home >  0.37\n",
            "|   |   |   |   |   |   |--- class: 1\n",
            "|   |   |   |   |--- shots_on_target_avg_home >  0.53\n",
            "|   |   |   |   |   |--- class: 0\n",
            "|   |--- goals_conced_ft_avg_home >  0.23\n",
            "|   |   |--- shots_on_target_avg_home <= 0.56\n",
            "|   |   |   |--- goals_scored_ft_avg_home <= 0.34\n",
            "|   |   |   |   |--- goals_conced_ft_avg_home <= 0.32\n",
            "|   |   |   |   |   |--- shots_avg_home <= 0.32\n",
            "|   |   |   |   |   |   |--- passes_avg_home <= 0.54\n",
            "|   |   |   |   |   |   |   |--- class: 0\n",
            "|   |   |   |   |   |   |--- passes_avg_home >  0.54\n",
            "|   |   |   |   |   |   |   |--- class: 1\n",
            "|   |   |   |   |   |--- shots_avg_home >  0.32\n",
            "|   |   |   |   |   |   |--- corners_avg_home <= 0.40\n",
            "|   |   |   |   |   |   |   |--- class: 1\n",
            "|   |   |   |   |   |   |--- corners_avg_home >  0.40\n",
            "|   |   |   |   |   |   |   |--- possession_avg_home <= 0.61\n",
            "|   |   |   |   |   |   |   |   |--- goals_scored_ft_avg_home <= 0.31\n",
            "|   |   |   |   |   |   |   |   |   |--- touches_avg_home <= 0.59\n",
            "|   |   |   |   |   |   |   |   |   |   |--- clearances_avg_home <= 0.39\n",
            "|   |   |   |   |   |   |   |   |   |   |   |--- class: 1\n",
            "|   |   |   |   |   |   |   |   |   |   |--- clearances_avg_home >  0.39\n",
            "|   |   |   |   |   |   |   |   |   |   |   |--- truncated branch of depth 2\n",
            "|   |   |   |   |   |   |   |   |   |--- touches_avg_home >  0.59\n",
            "|   |   |   |   |   |   |   |   |   |   |--- class: 0\n",
            "|   |   |   |   |   |   |   |   |--- goals_scored_ft_avg_home >  0.31\n",
            "|   |   |   |   |   |   |   |   |   |--- class: 0\n",
            "|   |   |   |   |   |   |   |--- possession_avg_home >  0.61\n",
            "|   |   |   |   |   |   |   |   |--- shots_on_target_avg_home <= 0.46\n",
            "|   |   |   |   |   |   |   |   |   |--- goals_conced_ft_avg_home <= 0.24\n",
            "|   |   |   |   |   |   |   |   |   |   |--- class: 0\n",
            "|   |   |   |   |   |   |   |   |   |--- goals_conced_ft_avg_home >  0.24\n",
            "|   |   |   |   |   |   |   |   |   |   |--- class: 1\n",
            "|   |   |   |   |   |   |   |   |--- shots_on_target_avg_home >  0.46\n",
            "|   |   |   |   |   |   |   |   |   |--- class: 1\n",
            "|   |   |   |   |--- goals_conced_ft_avg_home >  0.32\n",
            "|   |   |   |   |   |--- class: 1\n",
            "|   |   |   |--- goals_scored_ft_avg_home >  0.34\n",
            "|   |   |   |   |--- shots_on_target_avg_home <= 0.41\n",
            "|   |   |   |   |   |--- class: 1\n",
            "|   |   |   |   |--- shots_on_target_avg_home >  0.41\n",
            "|   |   |   |   |   |--- corners_avg_home <= 0.29\n",
            "|   |   |   |   |   |   |--- class: 1\n",
            "|   |   |   |   |   |--- corners_avg_home >  0.29\n",
            "|   |   |   |   |   |   |--- shots_on_target_avg_home <= 0.45\n",
            "|   |   |   |   |   |   |   |--- passes_avg_home <= 0.49\n",
            "|   |   |   |   |   |   |   |   |--- class: 1\n",
            "|   |   |   |   |   |   |   |--- passes_avg_home >  0.49\n",
            "|   |   |   |   |   |   |   |   |--- class: 0\n",
            "|   |   |   |   |   |   |--- shots_on_target_avg_home >  0.45\n",
            "|   |   |   |   |   |   |   |--- class: 0\n",
            "|   |   |--- shots_on_target_avg_home >  0.56\n",
            "|   |   |   |--- touches_avg_home <= 0.52\n",
            "|   |   |   |   |--- shots_avg_home <= 0.48\n",
            "|   |   |   |   |   |--- class: 1\n",
            "|   |   |   |   |--- shots_avg_home >  0.48\n",
            "|   |   |   |   |   |--- class: 0\n",
            "|   |   |   |--- touches_avg_home >  0.52\n",
            "|   |   |   |   |--- possession_avg_home <= 0.70\n",
            "|   |   |   |   |   |--- class: 0\n",
            "|   |   |   |   |--- possession_avg_home >  0.70\n",
            "|   |   |   |   |   |--- shots_on_target_avg_home <= 0.83\n",
            "|   |   |   |   |   |   |--- class: 1\n",
            "|   |   |   |   |   |--- shots_on_target_avg_home >  0.83\n",
            "|   |   |   |   |   |   |--- class: 0\n",
            "\n"
          ]
        }
      ]
    },
    {
      "cell_type": "code",
      "source": [
        "# Conjunto de datos predecidos\n",
        "\n",
        "Y_pred = arbol.predict(X_test)\n",
        "Y_pred"
      ],
      "metadata": {
        "colab": {
          "base_uri": "https://localhost:8080/"
        },
        "id": "X9CCwFA4o2XW",
        "outputId": "55a525fa-4d75-4b4a-9a88-4b97b858b85f"
      },
      "execution_count": 175,
      "outputs": [
        {
          "output_type": "execute_result",
          "data": {
            "text/plain": [
              "array([1, 0, 1, 1, 1, 1, 0, 0, 0, 1, 0, 1, 0, 0, 0, 1, 1, 1, 1, 1, 0, 1,\n",
              "       1, 0, 1, 1, 1, 0, 1, 1, 0, 0, 0, 1, 0, 1, 1, 1, 0, 0, 0, 0, 1, 1,\n",
              "       1, 1, 0, 0, 0, 1, 0, 0, 0, 1, 0, 1, 1, 1, 0, 0, 1, 1, 0, 0, 1, 1,\n",
              "       1, 0, 1, 1, 0, 0, 1, 0, 0, 0, 1, 1, 0, 1, 0, 1, 1, 1, 0, 0, 1, 1,\n",
              "       1, 0, 1, 0, 1, 1, 1, 0, 1, 1, 1, 0, 0, 0, 1, 1, 0, 0, 0, 1, 1, 1,\n",
              "       1, 1, 1, 1, 0, 0, 0, 1, 1, 0, 1, 1, 0, 0, 0, 1, 0, 0, 0, 0, 1, 0,\n",
              "       1, 1, 0, 0, 0, 1, 0, 0, 1, 1, 1, 0, 1, 1, 1, 0, 1, 1, 1, 1, 0, 1,\n",
              "       0, 0, 0, 0, 0, 0, 0, 0, 1, 1, 0, 0, 0, 1, 0, 1, 1, 1, 1, 1, 1, 1,\n",
              "       1, 0, 1, 0, 1, 0, 1, 0, 1, 1, 1, 1, 0, 1, 0, 0, 1, 1, 1, 0, 0, 1,\n",
              "       1, 1, 1, 1, 0, 0, 0, 1, 1, 1, 0, 1, 0, 0, 1, 0, 0, 0, 0, 0, 0, 0,\n",
              "       1, 1, 1, 1, 0, 1, 1, 1, 1, 1, 0, 0, 1, 1, 0, 0, 1, 1, 1, 0, 0, 0,\n",
              "       0, 0, 0, 1, 1, 1, 0, 0, 1, 0, 1, 0, 1, 0, 1, 0, 0, 0, 0, 1, 1, 1,\n",
              "       0, 1, 0, 1, 0, 1, 1, 1, 1, 1, 0, 0, 0, 1, 0, 1, 1, 1, 0, 1, 1, 0,\n",
              "       0, 0, 1, 0, 0, 1, 0, 1, 0, 0, 0, 0, 1, 1, 0, 0, 1, 0, 1, 0, 0, 1,\n",
              "       1, 0, 0, 1, 1, 1, 0, 0, 0, 0, 0, 0, 0, 0, 1, 1, 1, 0, 1, 0, 1, 0,\n",
              "       1, 0, 0, 1, 0, 0, 1, 0, 1, 0, 1, 1, 0, 1, 1, 0, 0, 1, 0, 0, 1, 1,\n",
              "       1, 0, 0, 1, 1, 0, 1, 1, 0, 0, 0, 0, 0, 1, 1, 1, 0, 0, 0, 0, 0, 1,\n",
              "       1, 1, 0, 0, 1, 0, 1, 1, 0, 0, 1, 0, 0, 1, 1, 0, 1, 1, 0, 1, 0, 1,\n",
              "       1, 0, 1, 1, 0, 1, 1, 0, 1, 0, 1, 0, 0, 0, 1, 1, 1, 1, 1, 0, 0, 0,\n",
              "       0, 0, 0, 0, 1, 0, 1, 0, 1, 0, 1, 0, 0, 1, 0, 0, 0, 1, 1, 1, 0, 1,\n",
              "       0, 0, 1, 1, 0, 0, 0, 1, 1, 1, 1, 1, 1, 0, 0, 0, 0, 0, 0, 1, 1, 1,\n",
              "       1, 0, 0, 0, 1, 1, 1, 1, 1, 1, 1, 1, 1, 1, 0, 0, 1, 0, 1, 1, 0, 1,\n",
              "       0, 1, 1, 0, 1, 1, 1, 0, 0, 1, 0, 1, 0, 1, 1, 1, 0, 1, 1, 1, 1, 1,\n",
              "       1, 1, 0, 1, 1, 1, 0, 1, 0, 0, 1, 0, 0, 1, 1, 1, 1, 0, 1, 1, 0, 1,\n",
              "       1, 0, 0, 1, 0, 1, 1, 0, 0, 1, 0, 1, 0, 0, 1, 0, 1, 0, 0, 1, 0, 1,\n",
              "       0, 0, 1, 1, 0, 1, 0, 0, 1, 0, 1, 1, 1, 1, 1, 1, 0, 1, 1, 1, 0, 1,\n",
              "       1, 1, 1, 1, 1, 1, 0, 0, 1, 0, 0, 0, 0, 0, 0, 1, 1, 1, 1])"
            ]
          },
          "metadata": {},
          "execution_count": 175
        }
      ]
    },
    {
      "cell_type": "code",
      "source": [
        "# Creando la matriz confusión\n",
        "\n",
        "mtrix_conf = confusion_matrix(Y_test, Y_pred)\n",
        "mtrix_conf"
      ],
      "metadata": {
        "colab": {
          "base_uri": "https://localhost:8080/"
        },
        "id": "Qx5uOxb9pM1X",
        "outputId": "5e0740d5-2d9f-44e1-e566-e86c19b3b08f"
      },
      "execution_count": 176,
      "outputs": [
        {
          "output_type": "execute_result",
          "data": {
            "text/plain": [
              "array([[255,  40],\n",
              "       [ 22, 274]])"
            ]
          },
          "metadata": {},
          "execution_count": 176
        }
      ]
    },
    {
      "cell_type": "code",
      "source": [
        "# Evaluación la precisión del modelo\n",
        "\n",
        "overall_accuracy = np.sum(mtrix_conf.diagonal())/ np.sum(mtrix_conf)\n",
        "overall_accuracy"
      ],
      "metadata": {
        "colab": {
          "base_uri": "https://localhost:8080/"
        },
        "id": "aND_e_OQqWUF",
        "outputId": "abeed347-f890-426e-d796-b07fa50446aa"
      },
      "execution_count": 177,
      "outputs": [
        {
          "output_type": "execute_result",
          "data": {
            "text/plain": [
              "0.8950930626057529"
            ]
          },
          "metadata": {},
          "execution_count": 177
        }
      ]
    },
    {
      "cell_type": "code",
      "source": [
        "import seaborn as sns\n",
        "sns.histplot(x = df.goals_scored_ft_avg_home, hue = df.performance)"
      ],
      "metadata": {
        "colab": {
          "base_uri": "https://localhost:8080/",
          "height": 297
        },
        "id": "0mX0m8E97rgB",
        "outputId": "9d24d7c9-794b-49bf-e28b-30d62bde19d9"
      },
      "execution_count": 178,
      "outputs": [
        {
          "output_type": "execute_result",
          "data": {
            "text/plain": [
              "<matplotlib.axes._subplots.AxesSubplot at 0x7f1114445710>"
            ]
          },
          "metadata": {},
          "execution_count": 178
        },
        {
          "output_type": "display_data",
          "data": {
            "text/plain": [
              "<Figure size 432x288 with 1 Axes>"
            ],
            "image/png": "[encoded data removed]"
          },
          "metadata": {
            "needs_background": "light"
          }
        }
      ]
    }
  ]
}